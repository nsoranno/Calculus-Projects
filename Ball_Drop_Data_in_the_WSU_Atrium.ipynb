{
  "nbformat": 4,
  "nbformat_minor": 0,
  "metadata": {
    "colab": {
      "name": "Ball Drop Data in the WSU Atrium.ipynb",
      "provenance": [],
      "collapsed_sections": [],
      "include_colab_link": true
    },
    "kernelspec": {
      "name": "python3",
      "display_name": "Python 3"
    },
    "language_info": {
      "name": "python"
    }
  },
  "cells": [
    {
      "cell_type": "markdown",
      "metadata": {
        "id": "view-in-github",
        "colab_type": "text"
      },
      "source": [
        "<a href=\"https://colab.research.google.com/github/nsoranno/Calculus-Projects/blob/main/Ball_Drop_Data_in_the_WSU_Atrium.ipynb\" target=\"_parent\"><img src=\"https://colab.research.google.com/assets/colab-badge.svg\" alt=\"Open In Colab\"/></a>"
      ]
    },
    {
      "cell_type": "markdown",
      "metadata": {
        "id": "qQcuOUtvYdma"
      },
      "source": [
        "#Ball Drop Data from the WSU Atrium #\n",
        "\n",
        "A rubber ball was dropped from the 3rd floor of the WSU atrium.  It started from 32 feet, and the ball's position was recorded for 10 seconds.  This data is shown in the spreadsheet below.\n",
        "\n",
        "We'd like to:\n",
        "\n",
        "  1. Generate a plot of the ball's position in Desmos;\n",
        "  2. Find the ball's velocity (by modifying the spreadsheet)\n",
        "  3. Generate a plot of the ball's velocity in Desmos.\n",
        "\n",
        "\n",
        "[ Note that we can copy the data from the spreadsheet, and paste it into Desmos.  Nice! ]"
      ]
    },
    {
      "cell_type": "markdown",
      "metadata": {
        "id": "DVeRfuIXZGgu"
      },
      "source": [
        "# Spreadsheet of the Ball Drop Data\n",
        "\n",
        "The ball drop data is collected and shown in the spreadsheet below."
      ]
    },
    {
      "cell_type": "code",
      "metadata": {
        "colab": {
          "base_uri": "https://localhost:8080/",
          "height": 396
        },
        "id": "bVnNOc5SZDa7",
        "outputId": "83b34820-7b21-4594-e9e7-af958ede4836"
      },
      "source": [
        "from IPython.display import IFrame\n",
        "IFrame(src=\"https://docs.google.com/spreadsheets/d/1reYQ2pZ2ZH2ZSfK8VhoR7GKxeNAGx9wK7CE5nquxOpk/edit?usp=sharing\", width=800, height=375)"
      ],
      "execution_count": null,
      "outputs": [
        {
          "output_type": "execute_result",
          "data": {
            "text/html": [
              "\n",
              "        <iframe\n",
              "            width=\"800\"\n",
              "            height=\"375\"\n",
              "            src=\"https://docs.google.com/spreadsheets/d/1reYQ2pZ2ZH2ZSfK8VhoR7GKxeNAGx9wK7CE5nquxOpk/edit?usp=sharing\"\n",
              "            frameborder=\"0\"\n",
              "            allowfullscreen\n",
              "        ></iframe>\n",
              "        "
            ],
            "text/plain": [
              "<IPython.lib.display.IFrame at 0x7f6988c09990>"
            ]
          },
          "metadata": {},
          "execution_count": 1
        }
      ]
    },
    {
      "cell_type": "markdown",
      "source": [
        "# Plot of the Ball's Position:"
      ],
      "metadata": {
        "id": "f71u6Ipbjry9"
      }
    },
    {
      "cell_type": "code",
      "metadata": {
        "colab": {
          "base_uri": "https://localhost:8080/",
          "height": 597
        },
        "id": "olAAeWDYYXan",
        "outputId": "005bff79-d24f-495c-ccba-d50f1e59e953"
      },
      "source": [
        "from IPython.display import IFrame\n",
        "IFrame(src=\"https://www.desmos.com/calculator/5lgmoswbxi\", width=1200, height=575)"
      ],
      "execution_count": null,
      "outputs": [
        {
          "output_type": "execute_result",
          "data": {
            "text/html": [
              "\n",
              "        <iframe\n",
              "            width=\"1200\"\n",
              "            height=\"575\"\n",
              "            src=\"https://www.desmos.com/calculator/zaqlrrufzm\"\n",
              "            frameborder=\"0\"\n",
              "            allowfullscreen\n",
              "        ></iframe>\n",
              "        "
            ],
            "text/plain": [
              "<IPython.lib.display.IFrame at 0x7f12ef92cc50>"
            ]
          },
          "metadata": {},
          "execution_count": 1
        }
      ]
    },
    {
      "cell_type": "markdown",
      "source": [
        "#Plot of the Ball's Velocity"
      ],
      "metadata": {
        "id": "2Ni5eQp9jvs1"
      }
    },
    {
      "cell_type": "code",
      "metadata": {
        "id": "oDunBWzaZAvS",
        "colab": {
          "base_uri": "https://localhost:8080/",
          "height": 596
        },
        "outputId": "5e4c90e2-e1e6-44a5-ddb5-cb1db4021d51"
      },
      "source": [
        "from IPython.display import IFrame\n",
        "IFrame(src=\"https://www.desmos.com/calculator/d5tkbnrwzo\", width=1200, height=575)"
      ],
      "execution_count": null,
      "outputs": [
        {
          "output_type": "execute_result",
          "data": {
            "text/html": [
              "\n",
              "        <iframe\n",
              "            width=\"1200\"\n",
              "            height=\"575\"\n",
              "            src=\"https://www.desmos.com/calculator/d5tkbnrwzo\"\n",
              "            frameborder=\"0\"\n",
              "            allowfullscreen\n",
              "        ></iframe>\n",
              "        "
            ],
            "text/plain": [
              "<IPython.lib.display.IFrame at 0x7faf3df4cfd0>"
            ]
          },
          "metadata": {},
          "execution_count": 1
        }
      ]
    },
    {
      "cell_type": "code",
      "source": [
        ""
      ],
      "metadata": {
        "id": "oD326T6FkOD9"
      },
      "execution_count": null,
      "outputs": []
    }
  ]
}